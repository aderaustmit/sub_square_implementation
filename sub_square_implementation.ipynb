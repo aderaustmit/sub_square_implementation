{
 "cells": [
  {
   "cell_type": "code",
   "execution_count": 1,
   "metadata": {
    "ExecuteTime": {
     "end_time": "2024-01-12T16:28:01.411430Z",
     "start_time": "2024-01-12T16:28:01.344549Z"
    },
    "collapsed": true
   },
   "outputs": [],
   "source": [
    "from abc import ABC, abstractmethod\n",
    "from dataclasses import dataclass, field\n",
    "from typing import Iterator, Tuple\n",
    "import random\n",
    "import unittest\n",
    "\n",
    "import numpy as np"
   ]
  },
  {
   "cell_type": "markdown",
   "metadata": {},
   "source": [
    "# Square Object (dataclass used in SubSquareSolver)"
   ]
  },
  {
   "cell_type": "code",
   "execution_count": 2,
   "metadata": {
    "ExecuteTime": {
     "end_time": "2024-01-12T16:28:02.136255Z",
     "start_time": "2024-01-12T16:28:02.133963Z"
    }
   },
   "outputs": [],
   "source": [
    "@dataclass(frozen=True)\n",
    "class Square:\n",
    "    \"\"\"\n",
    "    A data class representing a square matrix.\n",
    "\n",
    "    This class encapsulates a 2D square matrix (a NumPy ndarray) and provides\n",
    "    additional functionality and validations specific to square matrices.\n",
    "\n",
    "    Attributes:\n",
    "    matrix (np.ndarray): A 2D NumPy array representing the square matrix. \n",
    "\n",
    "    Methods:\n",
    "    size: Returns the size (length of a side) of the square matrix.\n",
    "\n",
    "    Raises:\n",
    "    TypeError: If the input is not a NumPy array.\n",
    "    ValueError: If the input matrix is not 2-dimensional, not square (equal number of rows and columns),\n",
    "                or contains elements other than 0s and 1s.\n",
    "    \"\"\"\n",
    "    matrix: np.ndarray = field(repr=False)  # Avoid showing large array in repr\n",
    "\n",
    "    def __post_init__(self):\n",
    "        self._valid_matrix()\n",
    "\n",
    "    def _valid_matrix(self):\n",
    "        \"\"\"Perform validations on the matrix.\"\"\"\n",
    "        # Ensure matrix is np.ndarray\n",
    "        if not isinstance(self.matrix, np.ndarray):\n",
    "            raise TypeError(\"Matrix must be a NumPy array.\")\n",
    "\n",
    "        # Ensure matrix is 2d-array\n",
    "        if self.matrix.ndim != 2:\n",
    "            raise ValueError(\"Matrix must be 2-dimensional.\")\n",
    "\n",
    "        # Ensure side lengths equal in square\n",
    "        rows, cols = self.matrix.shape\n",
    "        if rows != cols:\n",
    "            raise ValueError(\"Matrix must be square (equal number of rows and columns).\")\n",
    "\n",
    "        # Ensure each value in square is 0 | 1\n",
    "        if not np.all(np.isin(self.matrix, [0, 1])):\n",
    "            raise ValueError(\"Matrix elements must be either 0s or 1s.\")\n",
    "\n",
    "    @property\n",
    "    def size(self) -> int:\n",
    "        \"\"\"Return the size (length of a side) of the square.\"\"\"\n",
    "        return self.matrix.shape[0]\n",
    "\n",
    "    def __repr__(self) -> str:\n",
    "        return f\"Square(size={self.size})\""
   ]
  },
  {
   "cell_type": "markdown",
   "metadata": {},
   "source": [
    "# Generate Square object helper function (not currently used)"
   ]
  },
  {
   "cell_type": "code",
   "execution_count": 3,
   "metadata": {
    "ExecuteTime": {
     "end_time": "2024-01-12T16:28:02.579228Z",
     "start_time": "2024-01-12T16:28:02.574330Z"
    }
   },
   "outputs": [],
   "source": [
    "def generate_square_with_one_valid_sub_square(square_size: int, sub_square_size: int) -> Square:\n",
    "    \"\"\"\n",
    "    Generate a Square object representing a (square_size x square_size) square matrix with random 0s and 1s,\n",
    "    which contains at least one sub-square of a specified size where the entire perimeter \n",
    "    is composed of 1s.\n",
    "\n",
    "    Parameters:\n",
    "    square_size (int): The size of the square matrix to be generated.\n",
    "    sub_square_size (int): The size of the sub-square whose perimeter is to be set to 1s.\n",
    "                           This value must be less than or equal to square_size and greater than 1.\n",
    "\n",
    "    Returns:\n",
    "    Square: A Square data class instance representing the generated square matrix.\n",
    "\n",
    "    Raises:\n",
    "    ValueError: If 'sub_square_size' is greater than 'square_size' or if it's less than 2.\n",
    "    \"\"\"\n",
    "    if sub_square_size > square_size or sub_square_size < 2:\n",
    "        raise ValueError(\"Sub-square size must be less than or equal to square_size and greater than 1\")\n",
    "\n",
    "    # Initialize the square with random values (0 or 1)\n",
    "    matrix = np.random.randint(0, 2, size=(square_size, square_size))\n",
    "\n",
    "    # When sub_square_size equals square_size, the entire perimeter of the square is set\n",
    "    if sub_square_size == square_size:\n",
    "        matrix[0, :] = 1  # Top row\n",
    "        matrix[-1, :] = 1  # Bottom row\n",
    "        matrix[:, 0] = 1  # Left column\n",
    "        matrix[:, -1] = 1  # Right column\n",
    "    else:\n",
    "        # Randomly choose a position for the sub-square with perimeter one\n",
    "        row_start = random.randint(0, square_size - sub_square_size)\n",
    "        col_start = random.randint(0, square_size - sub_square_size)\n",
    "\n",
    "        # Set the perimeter of the chosen sub-square to one\n",
    "        matrix[row_start, col_start:col_start + sub_square_size] = 1  # Top row\n",
    "        matrix[row_start + sub_square_size - 1, col_start:col_start + sub_square_size] = 1  # Bottom row\n",
    "        matrix[row_start:row_start + sub_square_size, col_start] = 1  # Left column\n",
    "        matrix[row_start:row_start + sub_square_size, col_start + sub_square_size - 1] = 1  # Right column\n",
    "\n",
    "    # Return the square wrapped in the Square data class\n",
    "    return Square(matrix=matrix)"
   ]
  },
  {
   "cell_type": "markdown",
   "metadata": {},
   "source": [
    "# SubSquareSolver ABC"
   ]
  },
  {
   "cell_type": "code",
   "execution_count": 4,
   "metadata": {
    "ExecuteTime": {
     "end_time": "2024-01-12T16:28:02.990270Z",
     "start_time": "2024-01-12T16:28:02.983257Z"
    }
   },
   "outputs": [],
   "source": [
    "class SubSquareDNEError(Exception):\n",
    "    \"\"\"Raised when sub-square does not exist in Square\"\"\"\n",
    "\n",
    "\n",
    "class SubSquareSolver(ABC):\n",
    "    \"\"\"\n",
    "    Abstract base class for solving the problem of finding the largest sub-square within a Square object.\n",
    "\n",
    "    A sub-square is defined as a smaller square within the larger Square object whose perimeter consists entirely of ones. \n",
    "    This class serves as a template for classes that implement specific algorithms to find the largest such sub-square.\n",
    "\n",
    "    Subclasses must implement the find_largest_sub_square method to provide their algorithm for this problem.\n",
    "\n",
    "    Methods:\n",
    "    find_largest_sub_square(square: Square): Abstract method to find the largest sub-square.\n",
    "    \"\"\"\n",
    "\n",
    "    @abstractmethod\n",
    "    def find_largest_sub_square(self, square: Square) -> Tuple[np.ndarray, int]:\n",
    "        \"\"\"\n",
    "        Abstract method to find the largest sub-square within the given Square object.\n",
    "\n",
    "        Subclasses should implement this method with an algorithm to determine the largest sub-square\n",
    "        whose perimeter is composed entirely of ones.\n",
    "\n",
    "        Parameters:\n",
    "        square (Square): The Square object within which to find the largest sub-square.\n",
    "\n",
    "        Returns:\n",
    "        Tuple[np.ndarray, int]: A tuple containing the numpy array of the largest sub-square and its size (side length).\n",
    "\n",
    "        Raises:\n",
    "        SubSquareDNEError: If no sub-square with a perimeter of ones is found in the square.\n",
    "        \"\"\"\n",
    "        pass"
   ]
  },
  {
   "cell_type": "markdown",
   "metadata": {},
   "source": [
    "# SlidingWindowSearch algorithm implementation"
   ]
  },
  {
   "cell_type": "code",
   "execution_count": 5,
   "metadata": {
    "ExecuteTime": {
     "end_time": "2024-01-12T16:28:03.369592Z",
     "start_time": "2024-01-12T16:28:03.363967Z"
    }
   },
   "outputs": [],
   "source": [
    "class SlidingWindowSearch(SubSquareSolver):\n",
    "    # TODO: add init with timeout duration parameter\n",
    "\n",
    "    @staticmethod\n",
    "    def _get_rolling_windows(square: Square, sub_square_size: int) -> Iterator[np.ndarray]:\n",
    "        \"\"\"\n",
    "        Generate an iterator over all possible sub-squares of a given size within a Square object.\n",
    "\n",
    "        Parameters:\n",
    "        square (Square): The input Square object. Its matrix should be a square matrix (n x n).\n",
    "        sub_square_size (int): The side length of the possible sub-squares to be extracted.\n",
    "\n",
    "        Returns:\n",
    "        Iterator[np.ndarray]: An iterator that yields each sub-square of the array.\n",
    "\n",
    "        Raises:\n",
    "        ValueError: If 'size' is greater than the side length of the square or less than 1.\n",
    "        \"\"\"\n",
    "        n = square.size\n",
    "\n",
    "        if sub_square_size > n or sub_square_size < 1:\n",
    "            raise ValueError(\"Sub Square Size must be less than or equal to the size of the square and greater than 0\")\n",
    "\n",
    "        for start_row in range(n - sub_square_size + 1):\n",
    "            for start_col in range(n - sub_square_size + 1):\n",
    "                yield square.matrix[start_row:start_row + sub_square_size, start_col:start_col + sub_square_size]\n",
    "\n",
    "    @staticmethod\n",
    "    def _is_sub_square(sub_square: np.ndarray) -> bool:\n",
    "        \"\"\"\n",
    "        Check if all elements on the perimeter of a given sub-square are equal to one.\n",
    "\n",
    "        This function takes a possible sub-square (a 2D numpy array) and determines whether all the elements\n",
    "        on its perimeter are equal to 1 and hence a valid sub-square. The perimeter includes the top row, bottom row,\n",
    "        left column, and right column of the sub-square.\n",
    "\n",
    "        Parameters:\n",
    "        sub_square (np.ndarray): A 2D numpy array representing the sub-square to be checked.\n",
    "                                 The array should be square (m x m).\n",
    "\n",
    "        Returns:\n",
    "        bool: True if all elements on the perimeter of the sub-square are equal to 1, False otherwise.\n",
    "        \"\"\"\n",
    "        # Extract the perimeter of the sub-square\n",
    "        top_row = sub_square[0, :]\n",
    "        bottom_row = sub_square[-1, :]\n",
    "        left_column = sub_square[1:-1, 0]\n",
    "        right_column = sub_square[1:-1, -1]\n",
    "\n",
    "        # Combine all perimeter elements into one array\n",
    "        perimeter = np.concatenate((top_row, bottom_row, left_column, right_column))\n",
    "\n",
    "        # Check if all elements are equal to 1\n",
    "        return np.all(perimeter == 1)\n",
    "\n",
    "    def find_largest_sub_square(self, square: Square) -> Tuple[np.ndarray, int]:\n",
    "        \"\"\"\n",
    "        Find the largest sub-square within a given Square object where the perimeter\n",
    "        is composed entirely of ones. The algorithm iterates over all possible sub-square sizes,\n",
    "        starting from the largest possible size, and checks each sub-square to find one with a \n",
    "        perimeter of ones.\n",
    "    \n",
    "        The algorithm uses a sliding window approach to extract all possible sub-squares of each \n",
    "        size and checks their perimeter using the '_is_sub_square' method.\n",
    "    \n",
    "        Parameters:\n",
    "        square (Square): A Square object representing the square matrix to be checked.\n",
    "    \n",
    "        Returns:\n",
    "        Tuple[np.ndarray, int]: A tuple containing the numpy array of the largest sub-square and its size (side length).\n",
    "    \n",
    "        Raises:\n",
    "        SubSquareDNEError: If no sub-square with a perimeter of ones is found in the square.\n",
    "        \"\"\"\n",
    "        if not isinstance(square, Square):\n",
    "            raise TypeError(f\"square parameter must be type Square not {type(square)}\")\n",
    "\n",
    "        m = square.size\n",
    "        for size in range(m, 0, -1):\n",
    "            for sub_square in self._get_rolling_windows(square=square, sub_square_size=size):\n",
    "                if self._is_sub_square(sub_square=sub_square):\n",
    "                    return sub_square, size\n",
    "\n",
    "        raise SubSquareDNEError(\n",
    "            \"Square does not contain a sub-square with a perimeter of ones. \\n{}\".format(square.matrix)\n",
    "        )\n"
   ]
  },
  {
   "cell_type": "markdown",
   "metadata": {},
   "source": [
    "# Testing"
   ]
  },
  {
   "cell_type": "markdown",
   "metadata": {},
   "source": [
    "## Square Dataclass unittest"
   ]
  },
  {
   "cell_type": "code",
   "execution_count": 6,
   "metadata": {
    "ExecuteTime": {
     "end_time": "2024-01-12T16:28:04.158984Z",
     "start_time": "2024-01-12T16:28:04.154976Z"
    }
   },
   "outputs": [],
   "source": [
    "class TestSquare(unittest.TestCase):\n",
    "    def test_init_with_valid_parameters(self):\n",
    "        \"\"\"Test initialization with valid matrix\"\"\"\n",
    "        matrix = np.array(\n",
    "            [[1, 0, 0],\n",
    "             [0, 1, 0],\n",
    "             [0, 0, 1]]\n",
    "        )\n",
    "\n",
    "        square = Square(\n",
    "            matrix=matrix\n",
    "        )\n",
    "\n",
    "        self.assertIsInstance(square.matrix, np.ndarray)\n",
    "        self.assertIsNone(np.testing.assert_array_equal(square.matrix, matrix))\n",
    "        self.assertEqual(square.size, 3)\n",
    "\n",
    "    def test_init_with_matrix_size_one(self):\n",
    "        \"\"\"Test initialization with valid matrix size one\"\"\"\n",
    "        matrix = np.array(\n",
    "            [[1]]\n",
    "        )\n",
    "\n",
    "        square = Square(\n",
    "            matrix=matrix\n",
    "        )\n",
    "\n",
    "        self.assertIsInstance(square.matrix, np.ndarray)\n",
    "        self.assertIsNone(np.testing.assert_array_equal(square.matrix, matrix))\n",
    "        self.assertEqual(square.size, 1)\n",
    "\n",
    "    def test_init_with_none_matrix_raises_type_error(self):\n",
    "        \"\"\"Test that initializing with 'None' raises a TypeError\"\"\"\n",
    "        with self.assertRaises(TypeError):\n",
    "            Square(matrix=None)\n",
    "\n",
    "    def test_init_with_non_binary_matrix_raises_value_error(self):\n",
    "        \"\"\"Test that initializing with a non-binary matrix raises a ValueError\"\"\"\n",
    "        with self.assertRaises(ValueError):\n",
    "            Square(\n",
    "                matrix=np.array(\n",
    "                    [[3, 0, 0],\n",
    "                     [0, 0, 0],\n",
    "                     [0, 0, 0]]\n",
    "                )\n",
    "            )\n",
    "\n",
    "    def test_init_with_non_2d_matrix_raises_value_error(self):\n",
    "        \"\"\"Test that initializing with a non-2D matrix raises a ValueError\"\"\"\n",
    "        with self.assertRaises(ValueError):\n",
    "            Square(matrix=np.zeros(shape=(3, 3, 3)))\n",
    "\n",
    "    def test_init_with_non_square_matrix_raises_value_error(self):\n",
    "        \"\"\"Test that initializing with a non-square matrix raises a ValueError\"\"\"\n",
    "        with self.assertRaises(ValueError):\n",
    "            Square(matrix=np.zeros(shape=(2, 3)))"
   ]
  },
  {
   "cell_type": "markdown",
   "metadata": {},
   "source": [
    "## SlidingWindowSearch unittest"
   ]
  },
  {
   "cell_type": "code",
   "execution_count": 7,
   "metadata": {
    "ExecuteTime": {
     "end_time": "2024-01-12T16:28:04.580946Z",
     "start_time": "2024-01-12T16:28:04.576018Z"
    }
   },
   "outputs": [],
   "source": [
    "class TestSlidingWindowSearch(unittest.TestCase):\n",
    "    def setUp(self):\n",
    "        self.solver = SlidingWindowSearch()\n",
    "        self.square_3x3 = Square(\n",
    "            matrix=np.array(\n",
    "                [[1, 1, 1],\n",
    "                 [1, 0, 1],\n",
    "                 [1, 1, 1]]\n",
    "            )\n",
    "        )\n",
    "        self.square_4x4 = Square(\n",
    "            matrix=np.array(\n",
    "                [[1, 1, 1, 1],\n",
    "                 [1, 0, 0, 1],\n",
    "                 [1, 0, 0, 1],\n",
    "                 [1, 1, 1, 1]]\n",
    "            )\n",
    "        )\n",
    "\n",
    "    def test_get_rolling_windows_valid(self):\n",
    "        \"\"\"Test that correct number of rolling windows is generated for given Square\"\"\"\n",
    "        windows = list(self.solver._get_rolling_windows(square=self.square_3x3, sub_square_size=2))\n",
    "        self.assertEqual(len(windows), 4)  # 4 possible 2x2 sub-squares in a 3x3 square\n",
    "\n",
    "    def test_get_rolling_windows_with_invalid_sub_square_size(self):\n",
    "        \"\"\"Test that sub-square size greater than size of square raises ValueError\"\"\"\n",
    "        with self.assertRaises(ValueError):\n",
    "            list(self.solver._get_rolling_windows(square=self.square_3x3, sub_square_size=4))\n",
    "\n",
    "    def test_is_sub_square(self):\n",
    "        \"\"\"Test that true sub_square is evaluated as True\"\"\"\n",
    "        sub_square = np.array(\n",
    "            [[1, 1],\n",
    "             [1, 1]]\n",
    "        )\n",
    "        self.assertTrue(self.solver._is_sub_square(sub_square))\n",
    "\n",
    "    def test_is_not_sub_square(self):\n",
    "        \"\"\"Test that false sub_square is evaluated as False\"\"\"\n",
    "        sub_square = np.array(\n",
    "            [[1, 0],\n",
    "             [1, 1]]\n",
    "        )\n",
    "        self.assertFalse(self.solver._is_sub_square(sub_square))"
   ]
  },
  {
   "cell_type": "markdown",
   "metadata": {},
   "source": [
    "## SlidingWindowSearch integration test "
   ]
  },
  {
   "cell_type": "code",
   "execution_count": 8,
   "metadata": {
    "ExecuteTime": {
     "end_time": "2024-01-12T16:28:04.955514Z",
     "start_time": "2024-01-12T16:28:04.952475Z"
    }
   },
   "outputs": [],
   "source": [
    "class TestSlidingWindowSearchIntegration(unittest.TestCase):\n",
    "    def setUp(self):\n",
    "        self.solver = SlidingWindowSearch()\n",
    "\n",
    "    def test_find_largest_sub_square_invalid_type(self):\n",
    "        \"\"\"Test that TypeError raised when Square instance is not passed\"\"\"\n",
    "        square = np.array(\n",
    "            [[0, 0, 0],\n",
    "             [0, 0, 0],\n",
    "             [0, 0, 0]]\n",
    "        )\n",
    "\n",
    "        with self.assertRaises(TypeError):\n",
    "            self.solver.find_largest_sub_square(square)\n",
    "\n",
    "    def test_find_largest_valid_sub_square(self):\n",
    "        \"\"\"Test that valid sub_square array is correctly identified and has correct size\"\"\"\n",
    "        square = Square(\n",
    "            matrix=np.array(\n",
    "                [[0, 1, 1],\n",
    "                 [0, 1, 1],\n",
    "                 [1, 1, 1]]\n",
    "            )\n",
    "        )\n",
    "        expected_size = 2\n",
    "        expected_array = np.array(\n",
    "            [[1, 1],\n",
    "             [1, 1]]\n",
    "        )\n",
    "        sub_square_array, size = self.solver.find_largest_sub_square(square)\n",
    "        self.assertEqual(size, expected_size)\n",
    "        self.assertIsNone(np.testing.assert_array_equal(sub_square_array, expected_array))\n",
    "\n",
    "    def test_find_largest_sub_square_full_size(self):\n",
    "        \"\"\"Test that Square of all one's correctly identified and has correct size\"\"\"\n",
    "        square = Square(\n",
    "            matrix=np.ones((3, 3))\n",
    "        )\n",
    "        expected_size = 3\n",
    "        expected_array = np.array(\n",
    "            [[1, 1, 1],\n",
    "             [1, 1, 1],\n",
    "             [1, 1, 1]]\n",
    "        )\n",
    "        sub_square_array, size = self.solver.find_largest_sub_square(square)\n",
    "        self.assertEqual(size, expected_size)\n",
    "        self.assertIsNone(np.testing.assert_array_equal(sub_square_array, expected_array))\n",
    "\n",
    "    def test_find_largest_sub_square_size_one(self):\n",
    "        \"\"\"Test that Square with size 1, one is correctly identified and has correct size\"\"\"\n",
    "        square = Square(\n",
    "            matrix=np.ones((1, 1))\n",
    "        )\n",
    "        expected_size = 1\n",
    "        expected_array = np.array(\n",
    "            [[1]]\n",
    "        )\n",
    "        sub_square_array, size = self.solver.find_largest_sub_square(square)\n",
    "        self.assertEqual(size, expected_size)\n",
    "        self.assertIsNone(np.testing.assert_array_equal(sub_square_array, expected_array))\n",
    "\n",
    "    def test_find_largest_sub_square_not_existing(self):\n",
    "        \"\"\"Test that Square with non-existing sub-square raises DNEError\"\"\"\n",
    "        square = Square(\n",
    "            matrix=np.array(\n",
    "                [[0, 0, 0],\n",
    "                 [0, 0, 0],\n",
    "                 [0, 0, 0]]\n",
    "            )\n",
    "        )\n",
    "        with self.assertRaises(SubSquareDNEError):\n",
    "            self.solver.find_largest_sub_square(square)"
   ]
  },
  {
   "cell_type": "code",
   "execution_count": 9,
   "metadata": {
    "ExecuteTime": {
     "end_time": "2024-01-12T16:28:05.214194Z",
     "start_time": "2024-01-12T16:28:05.160355Z"
    }
   },
   "outputs": [
    {
     "name": "stderr",
     "output_type": "stream",
     "text": [
      "...............\n",
      "----------------------------------------------------------------------\n",
      "Ran 15 tests in 0.024s\n",
      "\n",
      "OK\n"
     ]
    },
    {
     "data": {
      "text/plain": [
       "<unittest.main.TestProgram at 0x104db8280>"
      ]
     },
     "execution_count": 9,
     "metadata": {},
     "output_type": "execute_result"
    }
   ],
   "source": [
    "# argv and exit parameters required to run tests in jupyter notebook\n",
    "unittest.main(argv=[''], exit=False)"
   ]
  }
 ],
 "metadata": {
  "kernelspec": {
   "display_name": "Python 3",
   "language": "python",
   "name": "python3"
  },
  "language_info": {
   "codemirror_mode": {
    "name": "ipython",
    "version": 3
   },
   "file_extension": ".py",
   "mimetype": "text/x-python",
   "name": "python",
   "nbconvert_exporter": "python",
   "pygments_lexer": "ipython3",
   "version": "3.7.6"
  }
 },
 "nbformat": 4,
 "nbformat_minor": 5
}
